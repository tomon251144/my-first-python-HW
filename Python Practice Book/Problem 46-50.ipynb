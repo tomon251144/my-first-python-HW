{
 "cells": [
  {
   "cell_type": "markdown",
   "metadata": {},
   "source": [
    "# Python Practice Book 46-50\n"
   ]
  },
  {
   "cell_type": "markdown",
   "metadata": {},
   "source": [
    "###  Problem 46\n",
    "####   Write a function triplets that takes a number n as argument and returns a list of triplets such that sum of first two elements of the triplet equals the third element using numbers below n. Please note that (a, b, c)and(b, a, c)represent same triplet."
   ]
  },
  {
   "cell_type": "code",
   "execution_count": 4,
   "metadata": {},
   "outputs": [
    {
     "data": {
      "text/plain": [
       "[(1, 1, 2), (1, 2, 3), (1, 3, 4), (1, 4, 5), (2, 2, 4), (2, 3, 5)]"
      ]
     },
     "execution_count": 4,
     "metadata": {},
     "output_type": "execute_result"
    }
   ],
   "source": [
    "def triplets(n):\n",
    "    return [(x,y,z) for x in range(1,n) for y in range(x,n) for z in range(y,n) if x+y==z]\n",
    "\n",
    "triplets(6)"
   ]
  },
  {
   "cell_type": "markdown",
   "metadata": {},
   "source": [
    "### Problem 47\n",
    "#### Write a function enumerate that takes a list and returns a list of tuples containing (index,item) for each item in the list."
   ]
  },
  {
   "cell_type": "code",
   "execution_count": 5,
   "metadata": {},
   "outputs": [
    {
     "name": "stdout",
     "output_type": "stream",
     "text": [
      "0 a\n",
      "1 b\n",
      "2 c\n"
     ]
    }
   ],
   "source": [
    "def myEnumerate(l):\n",
    "    return [(i,l[i]) for i in range(len(l))]\n",
    "\n",
    "\n",
    "myEnumerate([\"a\", \"b\", \"c\"])\n",
    "\n",
    "for index, value in myEnumerate([\"a\", \"b\", \"c\"]):\n",
    "    print( index, value)"
   ]
  },
  {
   "cell_type": "markdown",
   "metadata": {},
   "source": [
    "### Problem 48\n",
    "#### Write a function array to create an 2-dimensional array. The function should take both dimensions as arguments. Value of each element can be initialized to None:"
   ]
  },
  {
   "cell_type": "code",
   "execution_count": 7,
   "metadata": {},
   "outputs": [
    {
     "data": {
      "text/plain": [
       "[[5, None, None], [None, None, None], [None, None, None], [None, None, None]]"
      ]
     },
     "execution_count": 7,
     "metadata": {},
     "output_type": "execute_result"
    }
   ],
   "source": [
    "def array(x,y):\n",
    "    return [[None]*y for i in range(x)]\n",
    "\n",
    "a = array(4, 3)\n",
    "a\n",
    "a[0][0] = 5\n",
    "a"
   ]
  },
  {
   "cell_type": "markdown",
   "metadata": {},
   "source": [
    "### Problem 49:\n",
    "#### Write a python function parse_csv to parse csv (comma separated values) files."
   ]
  },
  {
   "cell_type": "code",
   "execution_count": 13,
   "metadata": {},
   "outputs": [
    {
     "data": {
      "text/plain": [
       "[['a', 'b', 'c'], ['1', '2', '3'], ['2', '3', '4'], ['3', '4', '5']]"
      ]
     },
     "execution_count": 13,
     "metadata": {},
     "output_type": "execute_result"
    }
   ],
   "source": [
    "def parse_csv(f):\n",
    "    lines = open(f).readlines()\n",
    "    return [[i for i in e.strip().split(',')] for e in lines]\n",
    "\n",
    "parse_csv('a.csv')"
   ]
  },
  {
   "cell_type": "code",
   "execution_count": 14,
   "metadata": {},
   "outputs": [
    {
     "name": "stdout",
     "output_type": "stream",
     "text": [
      "a,b,c\n",
      "1,2,3\n",
      "2,3,4\n",
      "3,4,5\n"
     ]
    }
   ],
   "source": [
    "print (open('a.csv').read())"
   ]
  },
  {
   "cell_type": "markdown",
   "metadata": {},
   "source": [
    "### Problem 50:\n",
    "#### Write a python function parse_csv to parse csv (comma separated values) files."
   ]
  },
  {
   "cell_type": "code",
   "execution_count": 18,
   "metadata": {},
   "outputs": [
    {
     "data": {
      "text/plain": [
       "[['a,b,c'], ['1,2,3'], ['2,3,4'], ['3,4,5']]"
      ]
     },
     "execution_count": 18,
     "metadata": {},
     "output_type": "execute_result"
    }
   ],
   "source": [
    "def parse(f,s,c):\n",
    "    lines = open(f).readlines()\n",
    "    return [ e.split(c)[0].strip().split(s) for e in lines]\n",
    "\n",
    "parse('a.txt', '!', '#')"
   ]
  },
  {
   "cell_type": "code",
   "execution_count": 19,
   "metadata": {},
   "outputs": [
    {
     "data": {
      "text/plain": [
       "[['a,b,c'], ['1,2,3'], ['2,3,4'], ['3,4,5']]"
      ]
     },
     "execution_count": 19,
     "metadata": {},
     "output_type": "execute_result"
    }
   ],
   "source": [
    "def parse(f,s,c):\n",
    "    return [ e.split(c)[0].strip().split(s) for e in open(f).readlines()]\n",
    "\n",
    "parse('a.txt', '!', '#')"
   ]
  },
  {
   "cell_type": "code",
   "execution_count": null,
   "metadata": {},
   "outputs": [],
   "source": []
  }
 ],
 "metadata": {
  "kernelspec": {
   "display_name": "Python 3",
   "language": "python",
   "name": "python3"
  },
  "language_info": {
   "codemirror_mode": {
    "name": "ipython",
    "version": 3
   },
   "file_extension": ".py",
   "mimetype": "text/x-python",
   "name": "python",
   "nbconvert_exporter": "python",
   "pygments_lexer": "ipython3",
   "version": "3.7.6"
  }
 },
 "nbformat": 4,
 "nbformat_minor": 4
}
