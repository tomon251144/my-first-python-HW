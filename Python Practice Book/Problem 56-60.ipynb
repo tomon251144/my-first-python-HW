{
 "cells": [
  {
   "cell_type": "markdown",
   "metadata": {},
   "source": [
    "# Python Practice Book 56-60..\n"
   ]
  },
  {
   "cell_type": "markdown",
   "metadata": {},
   "source": [
    "###  Problem 56\n",
    "#### Write a function valuesort to sort values of a dictionary based on the key."
   ]
  },
  {
   "cell_type": "code",
   "execution_count": 1,
   "metadata": {},
   "outputs": [
    {
     "data": {
      "text/plain": [
       "[3, 1, 2]"
      ]
     },
     "execution_count": 1,
     "metadata": {},
     "output_type": "execute_result"
    }
   ],
   "source": [
    "def valuesort(d):\n",
    "    return([i for e,i in list(sorted(d.items()))])\n",
    "\n",
    "valuesort({'x': 1, 'y': 2, 'a': 3})  \n"
   ]
  },
  {
   "cell_type": "markdown",
   "metadata": {},
   "source": [
    "### Problem 57\n",
    "#### Write a function valuesort to sort values of a dictionary based on the key."
   ]
  },
  {
   "cell_type": "code",
   "execution_count": 2,
   "metadata": {},
   "outputs": [
    {
     "data": {
      "text/plain": [
       "{1: 'x', 2: 'y', 3: 'z'}"
      ]
     },
     "execution_count": 2,
     "metadata": {},
     "output_type": "execute_result"
    }
   ],
   "source": [
    "def invertdict(d):\n",
    "    r = {}\n",
    "    for k,v in d.items():\n",
    "        r[v] = k\n",
    "    return r\n",
    "\n",
    "invertdict({'x': 1, 'y': 2, 'z': 3}) "
   ]
  },
  {
   "cell_type": "code",
   "execution_count": 3,
   "metadata": {},
   "outputs": [
    {
     "data": {
      "text/plain": [
       "{1: 'x', 2: 'y', 3: 'z'}"
      ]
     },
     "execution_count": 3,
     "metadata": {},
     "output_type": "execute_result"
    }
   ],
   "source": [
    "def invertdict(d):\n",
    "    return {v: k for k, v in d.items()}\n",
    "\n",
    "invertdict({'x': 1, 'y': 2, 'z': 3}) "
   ]
  },
  {
   "cell_type": "code",
   "execution_count": 4,
   "metadata": {},
   "outputs": [
    {
     "data": {
      "text/plain": [
       "{1: 'x', 2: 'y', 3: 'z'}"
      ]
     },
     "execution_count": 4,
     "metadata": {},
     "output_type": "execute_result"
    }
   ],
   "source": [
    "d = {'x': 1, 'y': 2, 'z': 3}\n",
    "# d = [ e for [k,v] in d.items() for e in [v,k]]\n",
    "d = {v: k for k, v in d.items()}\n",
    "d"
   ]
  },
  {
   "cell_type": "markdown",
   "metadata": {},
   "source": [
    "### Problem 58\n",
    "#### Write a program to list all files in the given directory."
   ]
  },
  {
   "cell_type": "code",
   "execution_count": 6,
   "metadata": {},
   "outputs": [
    {
     "name": "stdout",
     "output_type": "stream",
     "text": [
      "./jupyterlab-slides.pdf\n",
      "./big.csv\n",
      "./jupyterlab.md\n",
      "./lorenz.py\n",
      "./markdown_python.md\n",
      "./Lorenz.ipynb\n",
      "./Problem 26-30.ipynb\n",
      "./problem1-10.ipynb\n",
      "./Problem 1-10.ipynb\n",
      "./Problem 46-50.ipynb\n",
      "./Problem 16-20.ipynb\n",
      "./Problem 56-60.ipynb\n",
      "./a.txt\n",
      "./Problem 11-15.ipynb\n",
      "./Problem 36-40.ipynb\n",
      "./problem1-10(1).ipynb\n",
      "./40.txt\n",
      "./she.txt\n",
      "./Untitled.ipynb\n",
      "./Problem 41-45.ipynb\n",
      "./Problem 51-55.ipynb\n",
      "./a.csv\n",
      "./Problem 31-35.ipynb\n",
      "./untitled.txt\n",
      "./Problem 21-25.ipynb\n",
      "./data/bar.vl.json\n",
      "./data/1024px-Hubble_Interacting_Galaxy_AM_0500-620_(2008-04-24).jpg\n",
      "./data/Museums_in_DC.geojson\n",
      "./data/iris.csv\n",
      "./data/README.md\n",
      "./data/japan_meterological_agency_201707211555.json\n",
      "./data/zika_assembled_genomes.fasta\n",
      "./data/Dockerfile\n",
      "./TCGA_Data/p53_calls_pancancer.maf\n",
      "./TCGA_Data/nationwidechildrens.org_clinical_patient_hnsc.txt\n",
      "./TCGA_Data/amino_acids.csv\n",
      "./TCGA_Data/HGNC_chr_pos.txt\n",
      "./TCGA_Data/HGNC_Genes\n",
      "./TCGA_Data/p53_calls_pancancer.csv\n",
      "./TCGA_Data/hpv_summary_3_20_13_distribute.csv\n",
      "./TCGA_Data/HNSCC_molecular_validation.csf\n",
      "./TCGA_Data/nationwidechildrens.org_auxiliary_hnsc.txt\n",
      "./TCGA_Data/HNSCC_molecular_validation_matrix.csv\n",
      "./TCGA_Data/c2.cp.v3.0.symbols_edit.csv\n",
      "./TCGA_Data/diseaseStudy.txt\n",
      "./TCGA_Data/HNSCC_molecular_validation.maf\n",
      "./TCGA_Data/hgnc_regions.txt\n",
      "./TCGA_Data/gene_coords.csv\n",
      "./TCGA_Data/HNSC_Followup/biospecimen_protocol_hnsc.txt\n",
      "./TCGA_Data/HNSC_Followup/biospecimen_slide_hnsc.txt\n",
      "./TCGA_Data/HNSC_Followup/biospecimen_shipment_portion_hnsc.txt\n",
      "./TCGA_Data/HNSC_Followup/clinical_drug_hnsc.txt\n",
      "./TCGA_Data/HNSC_Followup/biospecimen_normal_control_hnsc.txt\n",
      "./TCGA_Data/HNSC_Followup/clinical_follow_up_v1.0_hnsc.txt\n",
      "./TCGA_Data/HNSC_Followup/biospecimen_aliquot_hnsc.txt\n",
      "./TCGA_Data/HNSC_Followup/biospecimen_portion_hnsc.txt\n",
      "./TCGA_Data/HNSC_Followup/biospecimen_analyte_hnsc.txt\n",
      "./TCGA_Data/HNSC_Followup/clinical_cqcf_hnsc.txt\n",
      "./TCGA_Data/HNSC_Followup/clinical_patient_hnsc.txt\n",
      "./TCGA_Data/HNSC_Followup/biospecimen_sample_hnsc.txt\n",
      "./TCGA_Data/HNSC_Followup/clinical_radiation_hnsc.txt\n",
      "./TCGA_Data/HNSC_Followup/clinical_follow_up_v4.8_hnsc.txt\n",
      "./TCGA_Data/HNSC_Followup/biospecimen_cqcf_hnsc.txt\n",
      "./TCGA_Data/HNSC_Followup/biospecimen_tumor_sample_hnsc.txt\n",
      "./TCGA_Data/UPMC_cohort/meta.csv\n",
      "./TCGA_Data/UPMC_cohort/TCGA_followup_UPMC.csv\n",
      "./TCGA_Data/UPMC_cohort/pitt_broad_data.csv\n",
      "./TCGA_Data/UPMC_cohort/TCGA_followup_UPMC_update.csv\n",
      "./TCGA_Data/UPMC_cohort/pitt_broad_data_update.csv\n",
      "./TCGA_Data/UPMC_cohort/cn_regioins_tumor.csv\n",
      "./TCGA_Data/UPMC_cohort/cn_regions.csv\n",
      "./TCGA_Data/UPMC_cohort/all_thresholded.by_genes.txt\n",
      "./TCGA_Data/UPMC_cohort/maf.csv\n",
      "./notebooks/Fasta.ipynb\n",
      "./notebooks/Cpp.ipynb\n",
      "./notebooks/bqplot.ipynb\n",
      "./notebooks/pandas.ipynb\n",
      "./notebooks/lorenz.py\n",
      "./notebooks/R.ipynb\n",
      "./notebooks/Lorenz.ipynb\n",
      "./notebooks/Data.ipynb\n",
      "./notebooks/images/xtensor.png\n",
      "./notebooks/images/xwidgets.png\n",
      "./notebooks/images/xeus-cling.png\n",
      "./notebooks/images/marie.png\n",
      "./notebooks/audio/audio.wav\n",
      "./bb/problem43-60.ipynb\n",
      "./bb/problem31-42.ipynb\n",
      "./bb/.ipynb_checkpoints/problem43-60-checkpoint.ipynb\n",
      "./bb/.ipynb_checkpoints/problem31-42-checkpoint.ipynb\n",
      "./.ipynb_checkpoints/Untitled-checkpoint.ipynb\n",
      "./.ipynb_checkpoints/Problem 26-30-checkpoint.ipynb\n",
      "./.ipynb_checkpoints/Problem 46-50-checkpoint.ipynb\n",
      "./.ipynb_checkpoints/Problem 16-20-checkpoint.ipynb\n",
      "./.ipynb_checkpoints/she-checkpoint.txt\n",
      "./.ipynb_checkpoints/40-checkpoint.txt\n",
      "./.ipynb_checkpoints/Problem 11-15-checkpoint.ipynb\n",
      "./.ipynb_checkpoints/Problem 36-40-checkpoint.ipynb\n",
      "./.ipynb_checkpoints/Problem 31-35-checkpoint.ipynb\n",
      "./.ipynb_checkpoints/Problem 51-55-checkpoint.ipynb\n",
      "./.ipynb_checkpoints/Problem 41-45-checkpoint.ipynb\n",
      "./.ipynb_checkpoints/Problem 56-60-checkpoint.ipynb\n",
      "./.ipynb_checkpoints/a-checkpoint.csv\n",
      "./.ipynb_checkpoints/a-checkpoint.txt\n",
      "./.ipynb_checkpoints/Problem 21-25-checkpoint.ipynb\n",
      "./.ipynb_checkpoints/Lorenz-checkpoint.ipynb\n"
     ]
    }
   ],
   "source": [
    "import os\n",
    "\n",
    "for currentpath, folders, files in os.walk('.'):\n",
    "    for file in files:\n",
    "        print(os.path.join(currentpath, file))"
   ]
  },
  {
   "cell_type": "markdown",
   "metadata": {},
   "source": [
    "### Problem 58\n",
    "#### Write a program to list all files in the given directory."
   ]
  },
  {
   "cell_type": "code",
   "execution_count": 5,
   "metadata": {},
   "outputs": [
    {
     "name": "stdout",
     "output_type": "stream",
     "text": [
      ".\\40.txt\n",
      ".\\a.csv\n",
      ".\\a.txt\n",
      ".\\Problem 1-10.ipynb\n",
      ".\\Problem 11-15-checkpoint.ipynb\n",
      ".\\Problem 16-20-checkpoint.ipynb\n",
      ".\\Problem 21-25-checkpoint.ipynb\n",
      ".\\Problem 26-30-checkpoint.ipynb\n",
      ".\\Problem 31-35-checkpoint.ipynb\n",
      ".\\Problem 36-40-checkpoint.ipynb\n",
      ".\\Problem 41-45-checkpoint.ipynb\n",
      ".\\Problem 46-50-checkpoint.ipynb\n",
      ".\\Problem 51-55-checkpoint.ipynb\n",
      ".\\Problem 56-60-checkpoint.ipynb\n",
      ".\\she.txt\n",
      ".\\.ipynb_checkpoints\\Problem 56-60-checkpoint-checkpoint.ipynb\n"
     ]
    }
   ],
   "source": [
    "import os\n",
    "\n",
    "for r, d, f in os.walk('.'):\n",
    "    for file in f:\n",
    "        print(os.path.join(r, file))"
   ]
  },
  {
   "cell_type": "code",
   "execution_count": 10,
   "metadata": {},
   "outputs": [
    {
     "name": "stdout",
     "output_type": "stream",
     "text": [
      ".ipynb_checkpoints\n",
      "40.txt\n",
      "a.csv\n",
      "a.txt\n",
      "Problem 1-10.ipynb\n",
      "Problem 11-15-checkpoint.ipynb\n",
      "Problem 16-20-checkpoint.ipynb\n",
      "Problem 21-25-checkpoint.ipynb\n",
      "Problem 26-30-checkpoint.ipynb\n",
      "Problem 31-35-checkpoint.ipynb\n",
      "Problem 36-40-checkpoint.ipynb\n",
      "Problem 41-45-checkpoint.ipynb\n",
      "Problem 46-50-checkpoint.ipynb\n",
      "Problem 51-55-checkpoint.ipynb\n",
      "Problem 56-60-checkpoint.ipynb\n",
      "she.txt\n"
     ]
    }
   ],
   "source": [
    "import os\n",
    " \n",
    "for f in os.listdir('.'):\n",
    "\tprint(f)"
   ]
  },
  {
   "cell_type": "markdown",
   "metadata": {},
   "source": [
    "### Problem 59: \n",
    "#### Write a program extcount.py to count number of files for each extension in the given directory. The program should take a directory name as argument and print count and extension for each available file extension."
   ]
  },
  {
   "cell_type": "code",
   "execution_count": 7,
   "metadata": {},
   "outputs": [
    {
     "name": "stdout",
     "output_type": "stream",
     "text": [
      "11 ipynb\n",
      "3 txt\n",
      "1 ipynb_checkpoints\n",
      "1 csv\n"
     ]
    }
   ],
   "source": [
    "import sys\n",
    "import os\n",
    "# path = sys.argv[1]\n",
    "path = '.'\n",
    "files = []\n",
    "for f in os.listdir(path):\n",
    "    files.append(f)\n",
    "ext = [e.split('.')[-1] for e in files]\n",
    "# print(ext)\n",
    "frequency = {}\n",
    "for w in ext:\n",
    "    frequency[w] = frequency.get(w, 0) + 1\n",
    "\n",
    "extcount = {k: v for k, v in sorted(frequency.items(), key=lambda item: item[1], reverse=True)}\n",
    "extcount = [print(v,k) for k, v in extcount.items()]"
   ]
  },
  {
   "cell_type": "code",
   "execution_count": 8,
   "metadata": {},
   "outputs": [
    {
     "name": "stdout",
     "output_type": "stream",
     "text": [
      ".\\.ipynb_checkpoints\n"
     ]
    }
   ],
   "source": [
    "import os\n",
    "\n",
    "path = '.'\n",
    "\n",
    "folders = []\n",
    "\n",
    "# r=root, d=directories, f = files\n",
    "for r, d, f in os.walk(path):\n",
    "    for folder in d:\n",
    "        folders.append(os.path.join(r, folder))\n",
    "\n",
    "for f in folders:\n",
    "    print(f)"
   ]
  },
  {
   "cell_type": "markdown",
   "metadata": {},
   "source": [
    "### Problem 60: \n",
    "#### Write a program to list all the files in the given directory along with their length and last modification time. The output should contain one line for each file containing filename, length and modification date separated by tabs. Hint: see help for os.stat."
   ]
  },
  {
   "cell_type": "code",
   "execution_count": 9,
   "metadata": {},
   "outputs": [
    {
     "name": "stdout",
     "output_type": "stream",
     "text": [
      "0\t2020-10-30 08:28:45.044703\t.ipynb_checkpoints\n",
      "207\t2020-10-30 07:59:32.265281\t40.txt\n",
      "32\t2020-10-30 07:59:32.296481\ta.csv\n",
      "23\t2020-10-30 07:59:32.296481\ta.txt\n",
      "8563\t2020-10-30 08:25:41.114750\tProblem 1-10.ipynb\n",
      "2687\t2020-10-30 08:25:41.114750\tProblem 11-15-checkpoint.ipynb\n",
      "2982\t2020-10-30 08:25:41.114750\tProblem 16-20-checkpoint.ipynb\n",
      "3459\t2020-10-30 08:25:41.099150\tProblem 21-25-checkpoint.ipynb\n",
      "4844\t2020-10-30 08:25:41.099150\tProblem 26-30-checkpoint.ipynb\n",
      "4831\t2020-10-30 08:25:41.099150\tProblem 31-35-checkpoint.ipynb\n",
      "6307\t2020-10-30 08:25:41.099150\tProblem 36-40-checkpoint.ipynb\n",
      "7162\t2020-10-30 08:25:41.099150\tProblem 41-45-checkpoint.ipynb\n",
      "5243\t2020-10-30 08:25:41.099150\tProblem 46-50-checkpoint.ipynb\n",
      "8499\t2020-10-30 08:25:41.099150\tProblem 51-55-checkpoint.ipynb\n",
      "19621\t2020-10-30 08:25:41.114750\tProblem 56-60-checkpoint.ipynb\n",
      "723\t2020-10-30 07:59:32.296481\tshe.txt\n"
     ]
    }
   ],
   "source": [
    "import datetime\n",
    "import os\n",
    "\n",
    "my_path='.'\n",
    "\n",
    "for item in os.scandir(my_path):\n",
    "     print('\\t'.join(str(e) for e in [item.stat().st_size, datetime.datetime.fromtimestamp(item.stat().st_atime),item.name]))"
   ]
  },
  {
   "cell_type": "code",
   "execution_count": null,
   "metadata": {},
   "outputs": [],
   "source": []
  },
  {
   "cell_type": "code",
   "execution_count": null,
   "metadata": {},
   "outputs": [],
   "source": []
  },
  {
   "cell_type": "code",
   "execution_count": null,
   "metadata": {},
   "outputs": [],
   "source": []
  }
 ],
 "metadata": {
  "kernelspec": {
   "display_name": "Python 3",
   "language": "python",
   "name": "python3"
  },
  "language_info": {
   "codemirror_mode": {
    "name": "ipython",
    "version": 3
   },
   "file_extension": ".py",
   "mimetype": "text/x-python",
   "name": "python",
   "nbconvert_exporter": "python",
   "pygments_lexer": "ipython3",
   "version": "3.7.6"
  }
 },
 "nbformat": 4,
 "nbformat_minor": 4
}
