{
 "cells": [
  {
   "cell_type": "markdown",
   "metadata": {},
   "source": [
    "# Python Practice Book 31-35\n"
   ]
  },
  {
   "cell_type": "markdown",
   "metadata": {},
   "source": [
    "### Problem 31 \n",
    "####  Write a function group(list, size) that take a list and splits into smaller lists of given size."
   ]
  },
  {
   "cell_type": "code",
   "execution_count": 5,
   "metadata": {},
   "outputs": [
    {
     "data": {
      "text/plain": [
       "[[1, 2, 3, 4], [5, 6, 8, 9], [10, 12]]"
      ]
     },
     "execution_count": 5,
     "metadata": {},
     "output_type": "execute_result"
    }
   ],
   "source": [
    "def group(lists,size):\n",
    "    group = []\n",
    "    while lists != []:\n",
    "        group += [lists[:size]]\n",
    "        lists = lists[size:]\n",
    "    return group\n",
    "group([1,2,3,4,5,6,8,9,10,12],4)"
   ]
  },
  {
   "cell_type": "markdown",
   "metadata": {},
   "source": [
    "### Problem 32 "
   ]
  },
  {
   "cell_type": "markdown",
   "metadata": {},
   "source": [
    "#### Write a function lensort to sort a list of strings based on length."
   ]
  },
  {
   "cell_type": "code",
   "execution_count": 9,
   "metadata": {},
   "outputs": [
    {
     "data": {
      "text/plain": [
       "['c', 'perl', 'java', 'ruby', 'python', 'haskell']"
      ]
     },
     "execution_count": 9,
     "metadata": {},
     "output_type": "execute_result"
    }
   ],
   "source": [
    "def lensort(lists):\n",
    "    for i in range(0,len(lists)-1):\n",
    "        for n in range(0,len(lists)-1):\n",
    "            if (len(lists[n]) > len(lists[n+1])):\n",
    "                tmp = lists[n]\n",
    "                lists[n] =lists[n+1]\n",
    "                lists[n+1] = tmp\n",
    "    return lists\n",
    "\n",
    "lensort(['python','perl','java','c','haskell','ruby'])\n",
    "                \n",
    "        "
   ]
  },
  {
   "cell_type": "markdown",
   "metadata": {},
   "source": [
    "### Problem 33\n",
    "####  Improve the unique function written in previous problems to take an optional key function as argu- ment and use the return value of the key function to check for uniqueness."
   ]
  },
  {
   "cell_type": "code",
   "execution_count": 30,
   "metadata": {},
   "outputs": [
    {
     "data": {
      "text/plain": [
       "'python'"
      ]
     },
     "execution_count": 30,
     "metadata": {},
     "output_type": "execute_result"
    }
   ],
   "source": [
    "def unique(lists,key=lambda s:s) :\n",
    "    i ,res = [key(e) for e in lists],[]\n",
    "    while i != [] :\n",
    "        res = i.pop(0)\n",
    "        while res[-1] in i :i.remove(res[-1])\n",
    "    return res\n",
    "unique([\"python\",\"perl\",\"python\"],key=lambda s:s.lower())"
   ]
  },
  {
   "cell_type": "markdown",
   "metadata": {},
   "source": [
    "### Problem 34\n",
    "#### Reimplement the unique function implemented in the earlier examples using sets."
   ]
  },
  {
   "cell_type": "code",
   "execution_count": 32,
   "metadata": {},
   "outputs": [
    {
     "data": {
      "text/plain": [
       "[1, 2, 3, 5]"
      ]
     },
     "execution_count": 32,
     "metadata": {},
     "output_type": "execute_result"
    }
   ],
   "source": [
    "def unique(lists):\n",
    "    return list(set(lists))\n",
    "unique([1, 2, 1, 3, 2, 5])"
   ]
  },
  {
   "cell_type": "markdown",
   "metadata": {},
   "source": [
    "### Problem 35\n",
    "#### Write a function extsort to sort a list of files based on extension."
   ]
  },
  {
   "cell_type": "code",
   "execution_count": 41,
   "metadata": {},
   "outputs": [
    {
     "name": "stdout",
     "output_type": "stream",
     "text": [
      "[['a', 'c'], ['a', 'z'], ['a', 'o']]\n",
      "[['a', 'c'], ['a', 'o'], ['a', 'z']]\n"
     ]
    },
    {
     "data": {
      "text/plain": [
       "['a.c', 'a.o', 'a.z']"
      ]
     },
     "execution_count": 41,
     "metadata": {},
     "output_type": "execute_result"
    }
   ],
   "source": [
    "def extsort(lists):\n",
    "    a = [e.split('.') for e in lists]\n",
    "    print(a)\n",
    "    b = sorted(a,key=lambda s:s[1])\n",
    "    print(b)\n",
    "    return ['.'.join(i) for i in b] \n",
    "extsort(['a.c','a.z','a.o'])"
   ]
  },
  {
   "cell_type": "code",
   "execution_count": null,
   "metadata": {},
   "outputs": [],
   "source": []
  }
 ],
 "metadata": {
  "kernelspec": {
   "display_name": "Python 3",
   "language": "python",
   "name": "python3"
  },
  "language_info": {
   "codemirror_mode": {
    "name": "ipython",
    "version": 3
   },
   "file_extension": ".py",
   "mimetype": "text/x-python",
   "name": "python",
   "nbconvert_exporter": "python",
   "pygments_lexer": "ipython3",
   "version": "3.7.6"
  }
 },
 "nbformat": 4,
 "nbformat_minor": 4
}
