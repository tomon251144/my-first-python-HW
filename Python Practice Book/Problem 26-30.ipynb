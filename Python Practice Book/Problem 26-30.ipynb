{
 "cells": [
  {
   "cell_type": "markdown",
   "metadata": {},
   "source": [
    "# Python Practice Book 26-30"
   ]
  },
  {
   "cell_type": "markdown",
   "metadata": {},
   "source": [
    "### Problem 26"
   ]
  },
  {
   "cell_type": "code",
   "execution_count": 93,
   "metadata": {},
   "outputs": [
    {
     "name": "stdout",
     "output_type": "stream",
     "text": [
      "Max : 20\n",
      "Min : 2\n"
     ]
    }
   ],
   "source": [
    "def max_j(list):\n",
    "    max = list[0]\n",
    "    for i in list :\n",
    "        if max < i :\n",
    "            max = i\n",
    "    return max\n",
    "\n",
    "\n",
    "def min_j(list):\n",
    "    min  = list[0]\n",
    "    for i in list :\n",
    "        if min > i :\n",
    "            min = i\n",
    "    return min\n",
    "\n",
    "list = [3,5,7,9,2,4,6,8,20]\n",
    "print(\"Max : {}\".format(max_j(list)))\n",
    "print(\"Min : {}\".format(min_j(list)))"
   ]
  },
  {
   "cell_type": "code",
   "execution_count": 94,
   "metadata": {},
   "outputs": [
    {
     "data": {
      "text/plain": [
       "'c'"
      ]
     },
     "execution_count": 94,
     "metadata": {},
     "output_type": "execute_result"
    }
   ],
   "source": [
    "max_j(['a','b','c'])"
   ]
  },
  {
   "cell_type": "code",
   "execution_count": 95,
   "metadata": {},
   "outputs": [
    {
     "data": {
      "text/plain": [
       "'a'"
      ]
     },
     "execution_count": 95,
     "metadata": {},
     "output_type": "execute_result"
    }
   ],
   "source": [
    "min_j(['a','b','c'])"
   ]
  },
  {
   "cell_type": "markdown",
   "metadata": {},
   "source": [
    "### Problem 27"
   ]
  },
  {
   "cell_type": "code",
   "execution_count": 35,
   "metadata": {},
   "outputs": [
    {
     "name": "stdout",
     "output_type": "stream",
     "text": [
      "[1, 3, 6, 10]\n",
      "[4, 7, 9, 10]\n"
     ]
    }
   ],
   "source": [
    "def cumulative_sum(lists):\n",
    "    sum,cumulative = 0,[]\n",
    "    for i in range(1,len(lists)+1) :\n",
    "        sum += lists[i-1]\n",
    "        cumulative.append(sum)\n",
    "    return cumulative \n",
    "\n",
    "print(cumulative_sum([1,2,3,4]))\n",
    "print(cumulative_sum([4,3,2,1]))"
   ]
  },
  {
   "cell_type": "markdown",
   "metadata": {},
   "source": [
    "### Problem 28"
   ]
  },
  {
   "cell_type": "code",
   "execution_count": 40,
   "metadata": {},
   "outputs": [
    {
     "name": "stdout",
     "output_type": "stream",
     "text": [
      "[1, 2, 6, 24]\n",
      "[4, 12, 24, 24]\n"
     ]
    }
   ],
   "source": [
    "def cumulative_product(lists):\n",
    "    sum,cumulative = 1,[]\n",
    "    for i in range(1,len(lists)+1) :\n",
    "        sum *= lists[i-1]\n",
    "        cumulative.append(sum)\n",
    "    return cumulative \n",
    "\n",
    "print(cumulative_product([1,2,3,4]))\n",
    "print(cumulative_product([4,3,2,1]))"
   ]
  },
  {
   "cell_type": "markdown",
   "metadata": {},
   "source": [
    "### Problem 29"
   ]
  },
  {
   "cell_type": "code",
   "execution_count": 56,
   "metadata": {},
   "outputs": [
    {
     "data": {
      "text/plain": [
       "[1, 2, 3, 5]"
      ]
     },
     "execution_count": 56,
     "metadata": {},
     "output_type": "execute_result"
    }
   ],
   "source": [
    "def unique(lists):\n",
    "    unique = []\n",
    "    for i in lists:\n",
    "        if i not in unique :\n",
    "            unique.append(i)\n",
    "    return unique\n",
    "unique([1,2,1,3,2,5])"
   ]
  },
  {
   "cell_type": "markdown",
   "metadata": {},
   "source": [
    "### Problem 30"
   ]
  },
  {
   "cell_type": "code",
   "execution_count": 89,
   "metadata": {},
   "outputs": [
    {
     "data": {
      "text/plain": [
       "[1, 2]"
      ]
     },
     "execution_count": 89,
     "metadata": {},
     "output_type": "execute_result"
    }
   ],
   "source": [
    "def dups(lists):\n",
    "    dups = []\n",
    "    for i in range(0,len(lists)):\n",
    "        for n in range(0,len(lists)) :\n",
    "            if i != n :\n",
    "                if lists[i] == lists[n]:\n",
    "                    if lists[i] not in dups :\n",
    "                        dups.append(lists[i])\n",
    "    return dups\n",
    "dups([1,2,1,3,2,5])"
   ]
  },
  {
   "cell_type": "code",
   "execution_count": null,
   "metadata": {},
   "outputs": [],
   "source": []
  }
 ],
 "metadata": {
  "kernelspec": {
   "display_name": "Python 3",
   "language": "python",
   "name": "python3"
  },
  "language_info": {
   "codemirror_mode": {
    "name": "ipython",
    "version": 3
   },
   "file_extension": ".py",
   "mimetype": "text/x-python",
   "name": "python",
   "nbconvert_exporter": "python",
   "pygments_lexer": "ipython3",
   "version": "3.7.6"
  }
 },
 "nbformat": 4,
 "nbformat_minor": 4
}
