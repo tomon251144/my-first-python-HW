{
 "cells": [
  {
   "cell_type": "markdown",
   "metadata": {},
   "source": [
    "# Python Practice Book 21-25\n"
   ]
  },
  {
   "cell_type": "markdown",
   "metadata": {},
   "source": [
    "### Problem 21"
   ]
  },
  {
   "cell_type": "code",
   "execution_count": 1,
   "metadata": {},
   "outputs": [
    {
     "name": "stdout",
     "output_type": "stream",
     "text": [
      "6\n"
     ]
    }
   ],
   "source": [
    "def sumlist(list):\n",
    "    sumlist = 0\n",
    "    for i in list :\n",
    "        sumlist += i\n",
    "    return sumlist\n",
    "a = [1,2,3]\n",
    "print(sumlist(a))"
   ]
  },
  {
   "cell_type": "markdown",
   "metadata": {},
   "source": [
    "### Problem 22"
   ]
  },
  {
   "cell_type": "code",
   "execution_count": 10,
   "metadata": {},
   "outputs": [
    {
     "name": "stdout",
     "output_type": "stream",
     "text": [
      "helloworld\n",
      "aaabbbccc\n"
     ]
    }
   ],
   "source": [
    "def sumlist(list):\n",
    "    sumlist = ''\n",
    "    for i in list :\n",
    "        sumlist += i\n",
    "    return sumlist\n",
    "a = ['hello','world']\n",
    "b = ['aaa','bbb','ccc']\n",
    "print(sumlist(a))\n",
    "print(sumlist(b))"
   ]
  },
  {
   "cell_type": "markdown",
   "metadata": {},
   "source": [
    "### Problem 23"
   ]
  },
  {
   "cell_type": "code",
   "execution_count": 14,
   "metadata": {},
   "outputs": [
    {
     "name": "stdout",
     "output_type": "stream",
     "text": [
      "6\n"
     ]
    }
   ],
   "source": [
    "def sumlist(list):\n",
    "    sumlist = 1\n",
    "    for i in list :\n",
    "        sumlist *= i\n",
    "    return sumlist\n",
    "a = [1,2,3]\n",
    "print(sumlist(a))"
   ]
  },
  {
   "cell_type": "markdown",
   "metadata": {},
   "source": [
    "### Problem 24"
   ]
  },
  {
   "cell_type": "code",
   "execution_count": 38,
   "metadata": {},
   "outputs": [
    {
     "data": {
      "text/plain": [
       "24"
      ]
     },
     "execution_count": 38,
     "metadata": {},
     "output_type": "execute_result"
    }
   ],
   "source": [
    "def factorials(number):\n",
    "    factorials = 1\n",
    "    for i in range(1,number+1) :\n",
    "        factorials *= i\n",
    "    return factorials\n",
    "\n",
    "factorials(4)\n",
    "    "
   ]
  },
  {
   "cell_type": "markdown",
   "metadata": {},
   "source": [
    "### Problem 25"
   ]
  },
  {
   "cell_type": "code",
   "execution_count": 69,
   "metadata": {},
   "outputs": [
    {
     "data": {
      "text/plain": [
       "[5, 4, 3, 2, 1]"
      ]
     },
     "execution_count": 69,
     "metadata": {},
     "output_type": "execute_result"
    }
   ],
   "source": [
    "def reverse(list):\n",
    "    reverse = []\n",
    "    for i in range(len(list),0,-1) :\n",
    "        reverse.append(list[i-1])\n",
    "    return reverse\n",
    "lists = [1, 2, 3, 4, 5]\n",
    "reverse(lists)"
   ]
  },
  {
   "cell_type": "markdown",
   "metadata": {},
   "source": [
    "Problem 26"
   ]
  }
 ],
 "metadata": {
  "kernelspec": {
   "display_name": "Python 3",
   "language": "python",
   "name": "python3"
  },
  "language_info": {
   "codemirror_mode": {
    "name": "ipython",
    "version": 3
   },
   "file_extension": ".py",
   "mimetype": "text/x-python",
   "name": "python",
   "nbconvert_exporter": "python",
   "pygments_lexer": "ipython3",
   "version": "3.7.6"
  }
 },
 "nbformat": 4,
 "nbformat_minor": 4
}
